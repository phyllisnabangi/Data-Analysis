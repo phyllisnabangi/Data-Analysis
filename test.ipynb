{
  "nbformat": 4,
  "nbformat_minor": 0,
  "metadata": {
    "colab": {
      "provenance": [],
      "authorship_tag": "ABX9TyO5HYa56l8eGIk+l2bCiJrD",
      "include_colab_link": true
    },
    "kernelspec": {
      "name": "python3",
      "display_name": "Python 3"
    },
    "language_info": {
      "name": "python"
    }
  },
  "cells": [
    {
      "cell_type": "markdown",
      "metadata": {
        "id": "view-in-github",
        "colab_type": "text"
      },
      "source": [
        "<a href=\"https://colab.research.google.com/github/phyllisnabangi/Data-Analysis/blob/master/test.ipynb\" target=\"_parent\"><img src=\"https://colab.research.google.com/assets/colab-badge.svg\" alt=\"Open In Colab\"/></a>"
      ]
    },
    {
      "cell_type": "code",
      "source": [
        " pip install streamlit pandas altair numpy"
      ],
      "metadata": {
        "colab": {
          "base_uri": "https://localhost:8080/"
        },
        "id": "jps4v8n5TW8N",
        "outputId": "90237410-9fe1-45e5-d925-a2ab57170415"
      },
      "execution_count": 2,
      "outputs": [
        {
          "output_type": "stream",
          "name": "stdout",
          "text": [
            "Collecting streamlit\n",
            "  Downloading streamlit-1.46.1-py3-none-any.whl.metadata (9.0 kB)\n",
            "Requirement already satisfied: pandas in /usr/local/lib/python3.11/dist-packages (2.2.2)\n",
            "Requirement already satisfied: altair in /usr/local/lib/python3.11/dist-packages (5.5.0)\n",
            "Requirement already satisfied: numpy in /usr/local/lib/python3.11/dist-packages (2.0.2)\n",
            "Requirement already satisfied: blinker<2,>=1.5.0 in /usr/local/lib/python3.11/dist-packages (from streamlit) (1.9.0)\n",
            "Requirement already satisfied: cachetools<7,>=4.0 in /usr/local/lib/python3.11/dist-packages (from streamlit) (5.5.2)\n",
            "Requirement already satisfied: click<9,>=7.0 in /usr/local/lib/python3.11/dist-packages (from streamlit) (8.2.1)\n",
            "Requirement already satisfied: packaging<26,>=20 in /usr/local/lib/python3.11/dist-packages (from streamlit) (24.2)\n",
            "Requirement already satisfied: pillow<12,>=7.1.0 in /usr/local/lib/python3.11/dist-packages (from streamlit) (11.2.1)\n",
            "Requirement already satisfied: protobuf<7,>=3.20 in /usr/local/lib/python3.11/dist-packages (from streamlit) (5.29.5)\n",
            "Requirement already satisfied: pyarrow>=7.0 in /usr/local/lib/python3.11/dist-packages (from streamlit) (18.1.0)\n",
            "Requirement already satisfied: requests<3,>=2.27 in /usr/local/lib/python3.11/dist-packages (from streamlit) (2.32.3)\n",
            "Requirement already satisfied: tenacity<10,>=8.1.0 in /usr/local/lib/python3.11/dist-packages (from streamlit) (8.5.0)\n",
            "Requirement already satisfied: toml<2,>=0.10.1 in /usr/local/lib/python3.11/dist-packages (from streamlit) (0.10.2)\n",
            "Requirement already satisfied: typing-extensions<5,>=4.4.0 in /usr/local/lib/python3.11/dist-packages (from streamlit) (4.14.0)\n",
            "Collecting watchdog<7,>=2.1.5 (from streamlit)\n",
            "  Downloading watchdog-6.0.0-py3-none-manylinux2014_x86_64.whl.metadata (44 kB)\n",
            "\u001b[2K     \u001b[90m━━━━━━━━━━━━━━━━━━━━━━━━━━━━━━━━━━━━━━━━\u001b[0m \u001b[32m44.3/44.3 kB\u001b[0m \u001b[31m1.8 MB/s\u001b[0m eta \u001b[36m0:00:00\u001b[0m\n",
            "\u001b[?25hRequirement already satisfied: gitpython!=3.1.19,<4,>=3.0.7 in /usr/local/lib/python3.11/dist-packages (from streamlit) (3.1.44)\n",
            "Collecting pydeck<1,>=0.8.0b4 (from streamlit)\n",
            "  Downloading pydeck-0.9.1-py2.py3-none-any.whl.metadata (4.1 kB)\n",
            "Requirement already satisfied: tornado!=6.5.0,<7,>=6.0.3 in /usr/local/lib/python3.11/dist-packages (from streamlit) (6.4.2)\n",
            "Requirement already satisfied: python-dateutil>=2.8.2 in /usr/local/lib/python3.11/dist-packages (from pandas) (2.9.0.post0)\n",
            "Requirement already satisfied: pytz>=2020.1 in /usr/local/lib/python3.11/dist-packages (from pandas) (2025.2)\n",
            "Requirement already satisfied: tzdata>=2022.7 in /usr/local/lib/python3.11/dist-packages (from pandas) (2025.2)\n",
            "Requirement already satisfied: jinja2 in /usr/local/lib/python3.11/dist-packages (from altair) (3.1.6)\n",
            "Requirement already satisfied: jsonschema>=3.0 in /usr/local/lib/python3.11/dist-packages (from altair) (4.24.0)\n",
            "Requirement already satisfied: narwhals>=1.14.2 in /usr/local/lib/python3.11/dist-packages (from altair) (1.44.0)\n",
            "Requirement already satisfied: gitdb<5,>=4.0.1 in /usr/local/lib/python3.11/dist-packages (from gitpython!=3.1.19,<4,>=3.0.7->streamlit) (4.0.12)\n",
            "Requirement already satisfied: attrs>=22.2.0 in /usr/local/lib/python3.11/dist-packages (from jsonschema>=3.0->altair) (25.3.0)\n",
            "Requirement already satisfied: jsonschema-specifications>=2023.03.6 in /usr/local/lib/python3.11/dist-packages (from jsonschema>=3.0->altair) (2025.4.1)\n",
            "Requirement already satisfied: referencing>=0.28.4 in /usr/local/lib/python3.11/dist-packages (from jsonschema>=3.0->altair) (0.36.2)\n",
            "Requirement already satisfied: rpds-py>=0.7.1 in /usr/local/lib/python3.11/dist-packages (from jsonschema>=3.0->altair) (0.25.1)\n",
            "Requirement already satisfied: MarkupSafe>=2.0 in /usr/local/lib/python3.11/dist-packages (from jinja2->altair) (3.0.2)\n",
            "Requirement already satisfied: six>=1.5 in /usr/local/lib/python3.11/dist-packages (from python-dateutil>=2.8.2->pandas) (1.17.0)\n",
            "Requirement already satisfied: charset-normalizer<4,>=2 in /usr/local/lib/python3.11/dist-packages (from requests<3,>=2.27->streamlit) (3.4.2)\n",
            "Requirement already satisfied: idna<4,>=2.5 in /usr/local/lib/python3.11/dist-packages (from requests<3,>=2.27->streamlit) (3.10)\n",
            "Requirement already satisfied: urllib3<3,>=1.21.1 in /usr/local/lib/python3.11/dist-packages (from requests<3,>=2.27->streamlit) (2.4.0)\n",
            "Requirement already satisfied: certifi>=2017.4.17 in /usr/local/lib/python3.11/dist-packages (from requests<3,>=2.27->streamlit) (2025.6.15)\n",
            "Requirement already satisfied: smmap<6,>=3.0.1 in /usr/local/lib/python3.11/dist-packages (from gitdb<5,>=4.0.1->gitpython!=3.1.19,<4,>=3.0.7->streamlit) (5.0.2)\n",
            "Downloading streamlit-1.46.1-py3-none-any.whl (10.1 MB)\n",
            "\u001b[2K   \u001b[90m━━━━━━━━━━━━━━━━━━━━━━━━━━━━━━━━━━━━━━━━\u001b[0m \u001b[32m10.1/10.1 MB\u001b[0m \u001b[31m58.7 MB/s\u001b[0m eta \u001b[36m0:00:00\u001b[0m\n",
            "\u001b[?25hDownloading pydeck-0.9.1-py2.py3-none-any.whl (6.9 MB)\n",
            "\u001b[2K   \u001b[90m━━━━━━━━━━━━━━━━━━━━━━━━━━━━━━━━━━━━━━━━\u001b[0m \u001b[32m6.9/6.9 MB\u001b[0m \u001b[31m79.6 MB/s\u001b[0m eta \u001b[36m0:00:00\u001b[0m\n",
            "\u001b[?25hDownloading watchdog-6.0.0-py3-none-manylinux2014_x86_64.whl (79 kB)\n",
            "\u001b[2K   \u001b[90m━━━━━━━━━━━━━━━━━━━━━━━━━━━━━━━━━━━━━━━━\u001b[0m \u001b[32m79.1/79.1 kB\u001b[0m \u001b[31m6.1 MB/s\u001b[0m eta \u001b[36m0:00:00\u001b[0m\n",
            "\u001b[?25hInstalling collected packages: watchdog, pydeck, streamlit\n",
            "Successfully installed pydeck-0.9.1 streamlit-1.46.1 watchdog-6.0.0\n"
          ]
        }
      ]
    },
    {
      "cell_type": "code",
      "execution_count": 3,
      "metadata": {
        "colab": {
          "base_uri": "https://localhost:8080/",
          "height": 526
        },
        "id": "FvYRqV0JMai8",
        "outputId": "955924a8-f4b0-418c-f859-c82c44726c9d"
      },
      "outputs": [
        {
          "output_type": "stream",
          "name": "stderr",
          "text": [
            "2025-06-27 07:33:01.285 WARNING streamlit.runtime.scriptrunner_utils.script_run_context: Thread 'MainThread': missing ScriptRunContext! This warning can be ignored when running in bare mode.\n",
            "2025-06-27 07:33:01.287 WARNING streamlit.runtime.scriptrunner_utils.script_run_context: Thread 'MainThread': missing ScriptRunContext! This warning can be ignored when running in bare mode.\n",
            "2025-06-27 07:33:01.731 \n",
            "  \u001b[33m\u001b[1mWarning:\u001b[0m to view this Streamlit app on a browser, run it with the following\n",
            "  command:\n",
            "\n",
            "    streamlit run /usr/local/lib/python3.11/dist-packages/colab_kernel_launcher.py [ARGUMENTS]\n",
            "2025-06-27 07:33:01.747 Thread 'MainThread': missing ScriptRunContext! This warning can be ignored when running in bare mode.\n",
            "2025-06-27 07:33:01.749 Thread 'MainThread': missing ScriptRunContext! This warning can be ignored when running in bare mode.\n",
            "2025-06-27 07:33:01.751 Thread 'MainThread': missing ScriptRunContext! This warning can be ignored when running in bare mode.\n",
            "2025-06-27 07:33:01.753 Thread 'MainThread': missing ScriptRunContext! This warning can be ignored when running in bare mode.\n",
            "2025-06-27 07:33:01.754 Thread 'MainThread': missing ScriptRunContext! This warning can be ignored when running in bare mode.\n",
            "2025-06-27 07:33:01.755 Thread 'MainThread': missing ScriptRunContext! This warning can be ignored when running in bare mode.\n",
            "2025-06-27 07:33:01.756 Session state does not function when running a script without `streamlit run`\n",
            "2025-06-27 07:33:01.757 Thread 'MainThread': missing ScriptRunContext! This warning can be ignored when running in bare mode.\n",
            "2025-06-27 07:33:01.758 Thread 'MainThread': missing ScriptRunContext! This warning can be ignored when running in bare mode.\n",
            "2025-06-27 07:33:01.760 Thread 'MainThread': missing ScriptRunContext! This warning can be ignored when running in bare mode.\n"
          ]
        },
        {
          "output_type": "error",
          "ename": "NameError",
          "evalue": "name 'df' is not defined",
          "traceback": [
            "\u001b[0;31m---------------------------------------------------------------------------\u001b[0m",
            "\u001b[0;31mNameError\u001b[0m                                 Traceback (most recent call last)",
            "\u001b[0;32m/tmp/ipython-input-3-2799838858.py\u001b[0m in \u001b[0;36m<cell line: 0>\u001b[0;34m()\u001b[0m\n\u001b[1;32m     34\u001b[0m \u001b[0;34m\u001b[0m\u001b[0m\n\u001b[1;32m     35\u001b[0m     \u001b[0;31m# Division filter\u001b[0m\u001b[0;34m\u001b[0m\u001b[0;34m\u001b[0m\u001b[0m\n\u001b[0;32m---> 36\u001b[0;31m \u001b[0mdivisions\u001b[0m \u001b[0;34m=\u001b[0m \u001b[0msorted\u001b[0m\u001b[0;34m(\u001b[0m\u001b[0mdf\u001b[0m\u001b[0;34m[\u001b[0m\u001b[0;34m\"Division\"\u001b[0m\u001b[0;34m]\u001b[0m\u001b[0;34m.\u001b[0m\u001b[0munique\u001b[0m\u001b[0;34m(\u001b[0m\u001b[0;34m)\u001b[0m\u001b[0;34m)\u001b[0m\u001b[0;34m\u001b[0m\u001b[0;34m\u001b[0m\u001b[0m\n\u001b[0m\u001b[1;32m     37\u001b[0m \u001b[0mselected\u001b[0m \u001b[0;34m=\u001b[0m \u001b[0mst\u001b[0m\u001b[0;34m.\u001b[0m\u001b[0msidebar\u001b[0m\u001b[0;34m.\u001b[0m\u001b[0mmultiselect\u001b[0m\u001b[0;34m(\u001b[0m\u001b[0;34m\"Select Division(s)\"\u001b[0m\u001b[0;34m,\u001b[0m \u001b[0mdivisions\u001b[0m\u001b[0;34m,\u001b[0m \u001b[0mdefault\u001b[0m\u001b[0;34m=\u001b[0m\u001b[0mdivisions\u001b[0m\u001b[0;34m)\u001b[0m\u001b[0;34m\u001b[0m\u001b[0;34m\u001b[0m\u001b[0m\n\u001b[1;32m     38\u001b[0m \u001b[0;34m\u001b[0m\u001b[0m\n",
            "\u001b[0;31mNameError\u001b[0m: name 'df' is not defined"
          ]
        }
      ],
      "source": [
        "import streamlit as st\n",
        "import pandas as pd\n",
        "import altair as alt\n",
        "import numpy as np\n",
        "\n",
        "st.set_page_config(page_title=\"Stakeholder Performance Dashboard\", layout=\"wide\")\n",
        "\n",
        "st.title(\"Stakeholder Performance by Division\")\n",
        "\n",
        "# Sidebar: data input and division selection\n",
        "sheet_url = st.text_input(\"/content/dummydata.xlsx\")\n",
        "\n",
        "if sheet_url:\n",
        "    try:\n",
        "        df = pd.read_excel(sheet_url)\n",
        "    except Exception as e:\n",
        "        st.error(f\"Error loading data: {e}\")\n",
        "        st.stop()\n",
        "\n",
        "    # Expect columns: Division, Stakeholder, Target, Actual\n",
        "    required_cols = [\"Division\", \"Stakeholder\", \"Target\", \"Actual\"]\n",
        "    if not all(col in df.columns for col in required_cols):\n",
        "        st.error(f\"Data must contain columns: {required_cols}\")\n",
        "        st.stop()\n",
        "\n",
        "    # Calculate performance ratio\n",
        "    df[\"Performance\"] = df[\"Actual\"] / df[\"Target\"]\n",
        "\n",
        "    # Color thresholds\n",
        "    color_scale = alt.Scale(\n",
        "        domain=[0, 0.7, 1],\n",
        "        range=[\"red\", \"orange\", \"green\"]\n",
        "    )\n",
        "\n",
        "    # Division filter\n",
        "divisions = sorted(df[\"Division\"].unique())\n",
        "selected = st.sidebar.multiselect(\"Select Division(s)\", divisions, default=divisions)\n",
        "\n",
        "filtered = df[df[\"Division\"].isin(selected)]\n",
        "\n",
        "if filtered.empty:\n",
        "    st.warning(\"No data for selected division(s).\")\n",
        "else:\n",
        "    # Bar chart per stakeholder\n",
        "    chart = alt.Chart(filtered).mark_bar().encode(\n",
        "        x=alt.X(\"Stakeholder:N\", sort=\"-y\", title=\"Stakeholder\"),\n",
        "        y=alt.Y(\"Performance:Q\", title=\"Performance (Actual / Target)\"),\n",
        "        color=alt.Color(\"Performance:Q\", scale=color_scale, legend=None),\n",
        "        tooltip=[\"Division\", \"Stakeholder\", \"Target\", \"Actual\", alt.Tooltip(\"Performance:Q\", format=\".2f\")]\n",
        "    ).properties(width=700, height=400)\n",
        "\n",
        "    st.altair_chart(chart, use_container_width=True)\n",
        "\n",
        "    # Show underlying table\n",
        "    st.markdown(\"---\")\n",
        "    st.subheader(\"Data Table\")\n",
        "    st.dataframe(filtered.style.format({\"Performance\": \"{:.2%}\"}))\n"
      ]
    },
    {
      "cell_type": "code",
      "source": [
        "# Stakeholder Performance Dashboard\n",
        "# Requirements:\n",
        "#   pip install streamlit pandas altair openpyxl numpy\n",
        "\n",
        "import streamlit as st\n",
        "import pandas as pd\n",
        "import altair as alt\n",
        "import numpy as np\n",
        "\n",
        "# Configure page\n",
        "st.set_page_config(page_title=\"Stakeholder Performance Dashboard\", layout=\"wide\")\n",
        "st.title(\"Stakeholder Performance by Division\")\n",
        "\n",
        "# Load data directly from Colab-mounted file\n",
        "data_path = \"./dummydata.xlsx\"  # ensure this file is in working directory\n",
        "\n",
        "@st.cache_data\n",
        "def load_data(path):\n",
        "    try:\n",
        "        df = pd.read_excel(path)\n",
        "        return df\n",
        "    except Exception as e:\n",
        "        st.error(f\"Error reading Excel file at {path}: {e}\")\n",
        "        return None\n",
        "\n",
        "# Read the Excel file\n",
        "df = load_data(data_path)\n",
        "\n",
        "if df is None:\n",
        "    st.error(f\"Failed to load data from {data_path}.\")\n",
        "else:\n",
        "    # Verify required columns\n",
        "    required_cols = [\"Division\", \"Stakeholder\", \"Target\", \"Actual\"]\n",
        "    if not all(col in df.columns for col in required_cols):\n",
        "        st.error(f\"Data must include columns: {required_cols}\")\n",
        "    else:\n",
        "        # Compute performance ratio\n",
        "        df = df.copy()\n",
        "        df['Performance'] = df['Actual'] / df['Target']\n",
        "\n",
        "        # Color scale thresholds\n",
        "        color_scale = alt.Scale(domain=[0, 0.7, 1], range=[\"red\", \"orange\", \"green\"])\n",
        "\n",
        "        # Division filter in sidebar\n",
        "        divisions = sorted(df['Division'].dropna().unique())\n",
        "        selected = st.sidebar.multiselect(\"Select Division(s)\", divisions, default=divisions)\n",
        "        filtered = df[df['Division'].isin(selected)]\n",
        "\n",
        "        if filtered.empty:\n",
        "            st.warning(\"No data for selected division(s).\")\n",
        "        else:\n",
        "            # Altair bar chart\n",
        "            chart = (\n",
        "                alt.Chart(filtered)\n",
        "                .mark_bar()\n",
        "                .encode(\n",
        "                    x=alt.X('Stakeholder:N', sort='-y', title='Stakeholder'),\n",
        "                    y=alt.Y('Performance:Q', title='Performance (Actual/Target)'),\n",
        "                    color=alt.Color('Performance:Q', scale=color_scale, legend=None),\n",
        "                    tooltip=[\n",
        "                        'Division', 'Stakeholder', 'Target', 'Actual', alt.Tooltip('Performance:Q', format='.2%')\n",
        "                    ]\n",
        "                )\n",
        "                .properties(width=700, height=400)\n",
        "            )\n",
        "\n",
        "            st.altair_chart(chart, use_container_width=True)\n",
        "\n",
        "            # Display data table\n",
        "            st.markdown('---')\n",
        "            st.subheader('Data Table')\n",
        "            display_df = filtered.copy()\n",
        "            display_df['Performance'] = display_df['Performance'].apply(lambda x: f\"{x:.2%}\")\n",
        "            st.dataframe(display_df)\n"
      ],
      "metadata": {
        "colab": {
          "base_uri": "https://localhost:8080/"
        },
        "id": "kV1HkIXpTyOG",
        "outputId": "f6bb1521-8d54-4d40-c4bd-ac5e5eca1bab"
      },
      "execution_count": 4,
      "outputs": [
        {
          "output_type": "stream",
          "name": "stderr",
          "text": [
            "2025-06-27 07:36:43.206 Thread 'MainThread': missing ScriptRunContext! This warning can be ignored when running in bare mode.\n",
            "2025-06-27 07:36:43.209 Thread 'MainThread': missing ScriptRunContext! This warning can be ignored when running in bare mode.\n",
            "2025-06-27 07:36:43.210 Thread 'MainThread': missing ScriptRunContext! This warning can be ignored when running in bare mode.\n",
            "2025-06-27 07:36:43.211 Thread 'MainThread': missing ScriptRunContext! This warning can be ignored when running in bare mode.\n",
            "2025-06-27 07:36:43.212 No runtime found, using MemoryCacheStorageManager\n",
            "2025-06-27 07:36:43.214 No runtime found, using MemoryCacheStorageManager\n",
            "2025-06-27 07:36:43.215 Thread 'MainThread': missing ScriptRunContext! This warning can be ignored when running in bare mode.\n",
            "2025-06-27 07:36:43.216 Thread 'MainThread': missing ScriptRunContext! This warning can be ignored when running in bare mode.\n",
            "2025-06-27 07:36:43.217 Thread 'MainThread': missing ScriptRunContext! This warning can be ignored when running in bare mode.\n",
            "2025-06-27 07:36:43.218 Thread 'MainThread': missing ScriptRunContext! This warning can be ignored when running in bare mode.\n",
            "2025-06-27 07:36:43.721 Thread 'Thread-9': missing ScriptRunContext! This warning can be ignored when running in bare mode.\n",
            "2025-06-27 07:36:43.730 Thread 'Thread-9': missing ScriptRunContext! This warning can be ignored when running in bare mode.\n",
            "2025-06-27 07:36:43.731 Thread 'Thread-9': missing ScriptRunContext! This warning can be ignored when running in bare mode.\n",
            "2025-06-27 07:36:43.761 Thread 'MainThread': missing ScriptRunContext! This warning can be ignored when running in bare mode.\n",
            "2025-06-27 07:36:43.762 Thread 'MainThread': missing ScriptRunContext! This warning can be ignored when running in bare mode.\n",
            "2025-06-27 07:36:43.763 Thread 'MainThread': missing ScriptRunContext! This warning can be ignored when running in bare mode.\n",
            "2025-06-27 07:36:43.775 Thread 'MainThread': missing ScriptRunContext! This warning can be ignored when running in bare mode.\n",
            "2025-06-27 07:36:43.776 Thread 'MainThread': missing ScriptRunContext! This warning can be ignored when running in bare mode.\n",
            "2025-06-27 07:36:43.778 Thread 'MainThread': missing ScriptRunContext! This warning can be ignored when running in bare mode.\n",
            "2025-06-27 07:36:43.780 Thread 'MainThread': missing ScriptRunContext! This warning can be ignored when running in bare mode.\n",
            "2025-06-27 07:36:43.781 Thread 'MainThread': missing ScriptRunContext! This warning can be ignored when running in bare mode.\n",
            "2025-06-27 07:36:43.783 Thread 'MainThread': missing ScriptRunContext! This warning can be ignored when running in bare mode.\n",
            "2025-06-27 07:36:43.923 Thread 'MainThread': missing ScriptRunContext! This warning can be ignored when running in bare mode.\n",
            "2025-06-27 07:36:43.924 Thread 'MainThread': missing ScriptRunContext! This warning can be ignored when running in bare mode.\n",
            "2025-06-27 07:36:43.925 Thread 'MainThread': missing ScriptRunContext! This warning can be ignored when running in bare mode.\n",
            "2025-06-27 07:36:43.926 Thread 'MainThread': missing ScriptRunContext! This warning can be ignored when running in bare mode.\n",
            "2025-06-27 07:36:43.927 Thread 'MainThread': missing ScriptRunContext! This warning can be ignored when running in bare mode.\n",
            "2025-06-27 07:36:43.928 Thread 'MainThread': missing ScriptRunContext! This warning can be ignored when running in bare mode.\n",
            "2025-06-27 07:36:43.929 Thread 'MainThread': missing ScriptRunContext! This warning can be ignored when running in bare mode.\n",
            "2025-06-27 07:36:43.929 Thread 'MainThread': missing ScriptRunContext! This warning can be ignored when running in bare mode.\n",
            "2025-06-27 07:36:43.930 Thread 'MainThread': missing ScriptRunContext! This warning can be ignored when running in bare mode.\n",
            "2025-06-27 07:36:43.934 Thread 'MainThread': missing ScriptRunContext! This warning can be ignored when running in bare mode.\n",
            "2025-06-27 07:36:43.935 Thread 'MainThread': missing ScriptRunContext! This warning can be ignored when running in bare mode.\n",
            "2025-06-27 07:36:43.935 Thread 'MainThread': missing ScriptRunContext! This warning can be ignored when running in bare mode.\n"
          ]
        }
      ]
    },
    {
      "cell_type": "code",
      "source": [
        "# Install Git\n",
        "!apt-get update -qq && apt-get install -qq git\n",
        "\n",
        "# Configure your identity\n",
        "!git config --global user.email \"nabangiphyllis7@gmail.com\"\n",
        "!git config --global user.name \"phyllisnabangi\"\n",
        "\n"
      ],
      "metadata": {
        "colab": {
          "base_uri": "https://localhost:8080/"
        },
        "id": "XkpCjM8PYxKQ",
        "outputId": "7d7dcb15-25df-498d-8d91-103526a07ca2"
      },
      "execution_count": 15,
      "outputs": [
        {
          "output_type": "stream",
          "name": "stdout",
          "text": [
            "W: Skipping acquire of configured file 'main/source/Sources' as repository 'https://r2u.stat.illinois.edu/ubuntu jammy InRelease' does not seem to provide it (sources.list entry misspelt?)\n"
          ]
        }
      ]
    },
    {
      "cell_type": "code",
      "source": [],
      "metadata": {
        "id": "nS3_wfI_ZVPH"
      },
      "execution_count": null,
      "outputs": []
    }
  ]
}